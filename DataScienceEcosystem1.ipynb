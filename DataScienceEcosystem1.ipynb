{
  "metadata": {
    "kernelspec": {
      "name": "python",
      "display_name": "Python (Pyodide)",
      "language": "python"
    },
    "language_info": {
      "codemirror_mode": {
        "name": "python",
        "version": 3
      },
      "file_extension": ".py",
      "mimetype": "text/x-python",
      "name": "python",
      "nbconvert_exporter": "python",
      "pygments_lexer": "ipython3",
      "version": "3.8"
    }
  },
  "nbformat_minor": 5,
  "nbformat": 4,
  "cells": [
    {
      "id": "8852be45-b7c6-45b6-b523-e0772118e702",
      "cell_type": "markdown",
      "source": "Data Science Tools and Ecosystem",
      "metadata": {}
    },
    {
      "id": "97b111ff-67ba-4431-9eef-4bcc62a73629",
      "cell_type": "code",
      "source": "In this notebook, we summarize some of the key tools and concepts used in the field of Data Science.",
      "metadata": {
        "trusted": true
      },
      "outputs": [],
      "execution_count": null
    },
    {
      "id": "3faa9723-480c-4169-9bbc-6d179dd7a6b6",
      "cell_type": "markdown",
      "source": "Some of the commonly used libraries used by Data Scientists include:\n1. Pandas\n2. NumPy\n3. Matplotlib\n4. Scikit-learn\n5. TensorFlow\n",
      "metadata": {}
    },
    {
      "id": "15bc36cb-e948-4a89-a669-0a94f3cda93f",
      "cell_type": "markdown",
      "source": "| Data Science Tools |\n|--------------------|\n| Jupyter Notebook   |\n| RStudio            |\n| Apache Zeppelin    |\n",
      "metadata": {}
    },
    {
      "id": "ae4ac9b7-652f-4127-866d-2093b2d0509a",
      "cell_type": "markdown",
      "source": "### Below are a few examples of evaluating arithmetic expressions in Python.\n",
      "metadata": {}
    },
    {
      "id": "861e08e3-58be-4da5-bb6c-a5c12cdef6d6",
      "cell_type": "code",
      "source": "# This is a simple arithmetic expression to multiply then add numbers\n(3*4)+5\n",
      "metadata": {
        "trusted": true
      },
      "outputs": [
        {
          "execution_count": 2,
          "output_type": "execute_result",
          "data": {
            "text/plain": "17"
          },
          "metadata": {}
        }
      ],
      "execution_count": 2
    },
    {
      "id": "a0301f81-b0e6-4cc1-8fd2-acad4419c5cb",
      "cell_type": "code",
      "source": "# This will convert 200 minutes to hours by dividing by 60\n200 / 60\n",
      "metadata": {
        "trusted": true
      },
      "outputs": [
        {
          "execution_count": 3,
          "output_type": "execute_result",
          "data": {
            "text/plain": "3.3333333333333335"
          },
          "metadata": {}
        }
      ],
      "execution_count": 3
    },
    {
      "id": "28ba9efc-92eb-4fb3-81b1-3c3d19721b60",
      "cell_type": "markdown",
      "source": "Objectives:\n- List popular languages for Data Science\n- Describe commonly used libraries in Data Science\n- Create tables in Markdown\n- Perform arithmetic operations in Python\n",
      "metadata": {}
    },
    {
      "id": "ae61d931-6a5c-46ea-9ba6-5a7734c66396",
      "cell_type": "markdown",
      "source": "Author: Kimberly Franklin\n",
      "metadata": {}
    }
  ]
}